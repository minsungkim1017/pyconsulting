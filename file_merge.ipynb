{
  "nbformat": 4,
  "nbformat_minor": 0,
  "metadata": {
    "colab": {
      "name": "file_merge.ipynb",
      "provenance": [],
      "collapsed_sections": [],
      "mount_file_id": "13hV75m7l4aaT1V9XCsFh0scYRmgjNB1L",
      "authorship_tag": "ABX9TyP/l83qUF7cDjKWZxhWa0Gw",
      "include_colab_link": true
    },
    "kernelspec": {
      "name": "python3",
      "display_name": "Python 3"
    },
    "language_info": {
      "name": "python"
    }
  },
  "cells": [
    {
      "cell_type": "markdown",
      "metadata": {
        "id": "view-in-github",
        "colab_type": "text"
      },
      "source": [
        "<a href=\"https://colab.research.google.com/github/minsungkim1017/pyconsulting/blob/main/file_merge.ipynb\" target=\"_parent\"><img src=\"https://colab.research.google.com/assets/colab-badge.svg\" alt=\"Open In Colab\"/></a>"
      ]
    },
    {
      "cell_type": "markdown",
      "source": [
        "**작업개요 (엑셀 시트 합치기)**\n",
        "\n",
        "1.   여러 개의 엑셀 파일에서 특정 시트를 검색하여 내용을 병합함\n",
        "2.   각 시트의 열 이름 및 구조가 상이한 경우에도 가능함\n",
        "\n",
        "---\n",
        "\n",
        "초기 파일경로는 개인 구글드라이브 내 \"data_합치기\" 폴더로 설정되어 있음\n",
        "폴더 내 xlsx 이외의 파일이 포함되어도 작동하지만, 권장하지 않음\n",
        "\n",
        "결과물은 data가 저장된 폴더 내 \"merge.xlsx\"로 저장됨\n",
        "\n",
        "전체 폴더 내 엑셀 파일 수 = A + B + C\n",
        "\n",
        "1.   전체 엑셀파일 중에서 특정 시트명을 포함하지 않은 경우(A)\n",
        "\n",
        "2.   특정 시트명을 포함하였으나, 구조적인 문제 등 로 병합에 실패한 경우 (B)\n",
        "\n",
        "3.   자료병합에 성공한 경우 (C)\n",
        "\n",
        "\n",
        "\n",
        "파일병합이 실패하는 원인: 구조적인 문제, 해당 시트가 공백인 경우\n",
        "\n",
        "\n",
        "---\n",
        "\n",
        "\n",
        "주의사항:\n",
        "1. 엑셀파일에 수식 형태로 남아 있는 경우 계산된 수식 값이 아니라 셀 주소형식으로 가져옴\n",
        "2. 시트 내 별도의 집계 열(소계, 합계) 또는 메모가 있는 경우도 전체를 가져옴\n",
        "3. merge 파일에서 별도의 처리 작업을 해야할 수 있음 \n",
        "\n",
        "last update: 22년 2월 28일 (MS KIM)"
      ],
      "metadata": {
        "id": "lRA12SBncV3X"
      }
    },
    {
      "cell_type": "code",
      "execution_count": 1,
      "metadata": {
        "id": "AN4XQ1keNZbx"
      },
      "outputs": [],
      "source": [
        "#필요한 라이브러리 로딩하기\n",
        "\n",
        "import os\n",
        "import openpyxl\n",
        "import pandas as pd"
      ]
    },
    {
      "cell_type": "code",
      "source": [
        "# 작업파일이 있는 폴더에 접근하기\n",
        "\n",
        "os.chdir(\"/content/drive/MyDrive/data_합치기\")\n",
        "file_list = os.listdir()\n",
        "num_file = len(file_list)\n",
        "print(str(num_file) +  \"개 파일이 존재합니다.\")"
      ],
      "metadata": {
        "colab": {
          "base_uri": "https://localhost:8080/"
        },
        "id": "tsiuiYYANetT",
        "outputId": "ddad6e0c-3afa-4f98-f9f8-79bfcfb2df15"
      },
      "execution_count": 2,
      "outputs": [
        {
          "output_type": "stream",
          "name": "stdout",
          "text": [
            "162개 파일이 존재합니다.\n"
          ]
        }
      ]
    },
    {
      "cell_type": "code",
      "source": [
        "# 확장자가 엑셀 파일인 것들만 골라서 리스트 만들기\n",
        "\n",
        "xlsx_name = []\n",
        "non_xlsx_name = []\n",
        "for file in file_list:\n",
        "  if file.endswith(\".xlsx\"):\n",
        "    xlsx_name.append(str(file))\n",
        "\n",
        "  else:\n",
        "    non_xlsx_name.append(str(file))\n",
        "\n",
        "print(str(len(xlsx_name)) + \"개 엑셀 파일이 발견되었습니다.\")\n",
        "\n",
        "df = pd.DataFrame({'file':xlsx_name}).reset_index()\n",
        "df['index'] = df['index'].astype('str')\n",
        "df.head()"
      ],
      "metadata": {
        "colab": {
          "base_uri": "https://localhost:8080/",
          "height": 225
        },
        "id": "LsDz1SOvNq6j",
        "outputId": "92e02546-8eb1-4a00-c762-fd43015294f7"
      },
      "execution_count": 3,
      "outputs": [
        {
          "output_type": "stream",
          "name": "stdout",
          "text": [
            "162개 엑셀 파일이 발견되었습니다.\n"
          ]
        },
        {
          "output_type": "execute_result",
          "data": {
            "text/html": [
              "\n",
              "  <div id=\"df-1a19535d-a620-4bb5-8640-53307bbc5a1b\">\n",
              "    <div class=\"colab-df-container\">\n",
              "      <div>\n",
              "<style scoped>\n",
              "    .dataframe tbody tr th:only-of-type {\n",
              "        vertical-align: middle;\n",
              "    }\n",
              "\n",
              "    .dataframe tbody tr th {\n",
              "        vertical-align: top;\n",
              "    }\n",
              "\n",
              "    .dataframe thead th {\n",
              "        text-align: right;\n",
              "    }\n",
              "</style>\n",
              "<table border=\"1\" class=\"dataframe\">\n",
              "  <thead>\n",
              "    <tr style=\"text-align: right;\">\n",
              "      <th></th>\n",
              "      <th>index</th>\n",
              "      <th>file</th>\n",
              "    </tr>\n",
              "  </thead>\n",
              "  <tbody>\n",
              "    <tr>\n",
              "      <th>0</th>\n",
              "      <td>0</td>\n",
              "      <td>200427 20년04월 물류수수료_영림산업.xlsx</td>\n",
              "    </tr>\n",
              "    <tr>\n",
              "      <th>1</th>\n",
              "      <td>1</td>\n",
              "      <td>200502 20년04월 물류수수료_가구만드는남ᄌ...</td>\n",
              "    </tr>\n",
              "    <tr>\n",
              "      <th>2</th>\n",
              "      <td>2</td>\n",
              "      <td>200502 20년04월 물류수수료_누리다(누리고그ᄅ...</td>\n",
              "    </tr>\n",
              "    <tr>\n",
              "      <th>3</th>\n",
              "      <td>3</td>\n",
              "      <td>200502 20년04월 물류수수료_노송퍼니처.xlsx</td>\n",
              "    </tr>\n",
              "    <tr>\n",
              "      <th>4</th>\n",
              "      <td>4</td>\n",
              "      <td>200502 20년04월 물류수수료_꾸밈(애니모리)....</td>\n",
              "    </tr>\n",
              "  </tbody>\n",
              "</table>\n",
              "</div>\n",
              "      <button class=\"colab-df-convert\" onclick=\"convertToInteractive('df-1a19535d-a620-4bb5-8640-53307bbc5a1b')\"\n",
              "              title=\"Convert this dataframe to an interactive table.\"\n",
              "              style=\"display:none;\">\n",
              "        \n",
              "  <svg xmlns=\"http://www.w3.org/2000/svg\" height=\"24px\"viewBox=\"0 0 24 24\"\n",
              "       width=\"24px\">\n",
              "    <path d=\"M0 0h24v24H0V0z\" fill=\"none\"/>\n",
              "    <path d=\"M18.56 5.44l.94 2.06.94-2.06 2.06-.94-2.06-.94-.94-2.06-.94 2.06-2.06.94zm-11 1L8.5 8.5l.94-2.06 2.06-.94-2.06-.94L8.5 2.5l-.94 2.06-2.06.94zm10 10l.94 2.06.94-2.06 2.06-.94-2.06-.94-.94-2.06-.94 2.06-2.06.94z\"/><path d=\"M17.41 7.96l-1.37-1.37c-.4-.4-.92-.59-1.43-.59-.52 0-1.04.2-1.43.59L10.3 9.45l-7.72 7.72c-.78.78-.78 2.05 0 2.83L4 21.41c.39.39.9.59 1.41.59.51 0 1.02-.2 1.41-.59l7.78-7.78 2.81-2.81c.8-.78.8-2.07 0-2.86zM5.41 20L4 18.59l7.72-7.72 1.47 1.35L5.41 20z\"/>\n",
              "  </svg>\n",
              "      </button>\n",
              "      \n",
              "  <style>\n",
              "    .colab-df-container {\n",
              "      display:flex;\n",
              "      flex-wrap:wrap;\n",
              "      gap: 12px;\n",
              "    }\n",
              "\n",
              "    .colab-df-convert {\n",
              "      background-color: #E8F0FE;\n",
              "      border: none;\n",
              "      border-radius: 50%;\n",
              "      cursor: pointer;\n",
              "      display: none;\n",
              "      fill: #1967D2;\n",
              "      height: 32px;\n",
              "      padding: 0 0 0 0;\n",
              "      width: 32px;\n",
              "    }\n",
              "\n",
              "    .colab-df-convert:hover {\n",
              "      background-color: #E2EBFA;\n",
              "      box-shadow: 0px 1px 2px rgba(60, 64, 67, 0.3), 0px 1px 3px 1px rgba(60, 64, 67, 0.15);\n",
              "      fill: #174EA6;\n",
              "    }\n",
              "\n",
              "    [theme=dark] .colab-df-convert {\n",
              "      background-color: #3B4455;\n",
              "      fill: #D2E3FC;\n",
              "    }\n",
              "\n",
              "    [theme=dark] .colab-df-convert:hover {\n",
              "      background-color: #434B5C;\n",
              "      box-shadow: 0px 1px 3px 1px rgba(0, 0, 0, 0.15);\n",
              "      filter: drop-shadow(0px 1px 2px rgba(0, 0, 0, 0.3));\n",
              "      fill: #FFFFFF;\n",
              "    }\n",
              "  </style>\n",
              "\n",
              "      <script>\n",
              "        const buttonEl =\n",
              "          document.querySelector('#df-1a19535d-a620-4bb5-8640-53307bbc5a1b button.colab-df-convert');\n",
              "        buttonEl.style.display =\n",
              "          google.colab.kernel.accessAllowed ? 'block' : 'none';\n",
              "\n",
              "        async function convertToInteractive(key) {\n",
              "          const element = document.querySelector('#df-1a19535d-a620-4bb5-8640-53307bbc5a1b');\n",
              "          const dataTable =\n",
              "            await google.colab.kernel.invokeFunction('convertToInteractive',\n",
              "                                                     [key], {});\n",
              "          if (!dataTable) return;\n",
              "\n",
              "          const docLinkHtml = 'Like what you see? Visit the ' +\n",
              "            '<a target=\"_blank\" href=https://colab.research.google.com/notebooks/data_table.ipynb>data table notebook</a>'\n",
              "            + ' to learn more about interactive tables.';\n",
              "          element.innerHTML = '';\n",
              "          dataTable['output_type'] = 'display_data';\n",
              "          await google.colab.output.renderOutput(dataTable, element);\n",
              "          const docLink = document.createElement('div');\n",
              "          docLink.innerHTML = docLinkHtml;\n",
              "          element.appendChild(docLink);\n",
              "        }\n",
              "      </script>\n",
              "    </div>\n",
              "  </div>\n",
              "  "
            ],
            "text/plain": [
              "  index                                               file\n",
              "0     0    200427 20년04월 물류수수료_영림산업.xlsx\n",
              "1     1  200502 20년04월 물류수수료_가구만드는남ᄌ...\n",
              "2     2  200502 20년04월 물류수수료_누리다(누리고그ᄅ...\n",
              "3     3     200502 20년04월 물류수수료_노송퍼니처.xlsx\n",
              "4     4  200502 20년04월 물류수수료_꾸밈(애니모리)...."
            ]
          },
          "metadata": {},
          "execution_count": 3
        }
      ]
    },
    {
      "cell_type": "code",
      "source": [
        "#특정 키워드/시트명이 존재하는 파일을 찾아서 리스트로 만들기\n",
        "\n",
        "keyword = input(\"시트 검색 키워드를 입력하세요.\")\n",
        "\n",
        "file_idx = []\n",
        "true_list = []\n",
        "\n",
        "for i in range(0,len(df)):\n",
        "    wb = openpyxl.load_workbook(str(df.iloc[i,1]))\n",
        "    for sht in wb.sheetnames:\n",
        "        if keyword in sht:\n",
        "            file_idx.append(str(i))\n",
        "            true_list.append(sht)\n",
        "        \n",
        "\n",
        "df1 = pd.DataFrame({\"file_index\":file_idx,\n",
        "                   \"sheet_name\": true_list})\n",
        "\n",
        "print()\n",
        "print(keyword + \" 검색결과\" + \"총\" + str(len(df1)) + \"개 파일이 발견되었습니다.\")"
      ],
      "metadata": {
        "colab": {
          "base_uri": "https://localhost:8080/"
        },
        "id": "6ghB9Th-Qov3",
        "outputId": "0b1452de-ffff-47c7-fdfe-d50e94f4173c"
      },
      "execution_count": 4,
      "outputs": [
        {
          "output_type": "stream",
          "name": "stdout",
          "text": [
            "시트 검색 키워드를 입력하세요.시공비\n",
            "\n",
            "시공비 검색결과총157개 파일이 발견되었습니다.\n"
          ]
        }
      ]
    },
    {
      "cell_type": "code",
      "source": [
        "#해당 시트명에 첫 줄이 열 이름일 경우를 가정함\n",
        "\n",
        "df2 = pd.merge(df1, df, left_on = \"file_index\", right_on = \"index\")\n",
        "df2 = df2.drop(['index'], axis = 1)\n",
        "\n",
        "print(\"작업용 DF 생성완료\")\n",
        "df2.head()\n",
        "\n",
        "result = pd.DataFrame()\n",
        "error_list = []\n",
        "\n",
        "for i in range(0, len(df2)):\n",
        "  try:\n",
        "    wb = openpyxl.load_workbook(df2.iloc[i,2])\n",
        "    sht = wb[df2.iloc[i,1]]\n",
        "    data = sht.values\n",
        "    col = next(data)[0:]\n",
        "    sht_df = pd.DataFrame(data, columns=col)\n",
        "    sht_df['file'] = str(df2.iloc[i,2])\n",
        "    result = pd.concat([result, sht_df], axis = 0)\n",
        "    if i % 10 == 0:\n",
        "      print(str(i) + \"번째까지 성공\")\n",
        "\n",
        "\n",
        "  except:\n",
        "    error_list.append(str(df2.iloc[i,2]))\n",
        "    print(str(i) + \"번째 실패\")\n",
        "\n",
        "result.to_excel(\"merge.xlsx\")\n",
        "print(\"merge.xlsx 저장\")\n"
      ],
      "metadata": {
        "colab": {
          "base_uri": "https://localhost:8080/"
        },
        "id": "W9PF6ukzSMPp",
        "outputId": "8c1d9088-8136-44d1-858c-9179b69c4a0a"
      },
      "execution_count": 5,
      "outputs": [
        {
          "output_type": "stream",
          "name": "stdout",
          "text": [
            "작업용 DF 생성완료\n",
            "0번째까지 성공\n"
          ]
        },
        {
          "output_type": "stream",
          "name": "stderr",
          "text": [
            "/usr/local/lib/python3.7/dist-packages/ipykernel_launcher.py:18: FutureWarning: Inferring datetime64[ns] from data containing strings is deprecated and will be removed in a future version. To retain the old behavior explicitly pass Series(data, dtype={value.dtype})\n"
          ]
        },
        {
          "output_type": "stream",
          "name": "stdout",
          "text": [
            "10번째까지 성공\n",
            "12번째 실패\n",
            "20번째까지 성공\n",
            "30번째까지 성공\n",
            "40번째까지 성공\n",
            "50번째 실패\n",
            "60번째까지 성공\n",
            "70번째까지 성공\n",
            "78번째 실패\n",
            "80번째까지 성공\n",
            "87번째 실패\n",
            "89번째 실패\n",
            "90번째까지 성공\n",
            "100번째까지 성공\n",
            "110번째까지 성공\n",
            "120번째까지 성공\n",
            "124번째 실패\n",
            "130번째까지 성공\n",
            "140번째까지 성공\n",
            "142번째 실패\n",
            "150번째 실패\n",
            "merge.xlsx 저장\n"
          ]
        }
      ]
    },
    {
      "cell_type": "code",
      "source": [
        "#에러 리스트 반환\n",
        "\n",
        "error_list"
      ],
      "metadata": {
        "colab": {
          "base_uri": "https://localhost:8080/"
        },
        "id": "gpJ3GZcmbkcd",
        "outputId": "d6930fe0-24e4-4f60-d671-567bc6dffde0"
      },
      "execution_count": 6,
      "outputs": [
        {
          "output_type": "execute_result",
          "data": {
            "text/plain": [
              "['200502 20년04월 물류수수료_드림메이드_창고비일할.xlsx',\n",
              " '200502 20년04월 물류수수료_브라운즈.xlsx',\n",
              " '200502 20년04월 물류수수료_오럭스_창고비일할.xlsx',\n",
              " '200502 20년04월 물류수수료_제이케이디파트너스.xlsx',\n",
              " '200502 20년04월 물류수수료_인퍼니.xlsx',\n",
              " '200502 20년04월 물류수수료_에스엠엘디자인(SML) v3.xlsx',\n",
              " '200502 20년04월 물류수수료_하늘디자인 v4.xlsx',\n",
              " '200502 20년04월 물류수수료_넵스홈.xlsx']"
            ]
          },
          "metadata": {},
          "execution_count": 6
        }
      ]
    },
    {
      "cell_type": "code",
      "source": [
        "#해당 키워드를 포함하지 않아서 제외된 목록\n",
        "\n",
        "include_list = pd.merge(df, df1, left_on = \"index\", right_on= \"file_index\")\n",
        "include_idx = list(include_list.index)\n",
        "\n",
        "df_omit = df.copy()\n",
        "df_omit.drop(include_idx, inplace=True)\n",
        "df_omit\n",
        "# df_omit.to_excel(\"작업제외항목.xlsx\")\n",
        "# print(\"작업제외항목.xlsx를 생성했습니다.\")"
      ],
      "metadata": {
        "colab": {
          "base_uri": "https://localhost:8080/",
          "height": 206
        },
        "id": "4sV2NQhHTyQT",
        "outputId": "46a0f692-66a7-4206-dfaa-96ba681dc2c1"
      },
      "execution_count": 7,
      "outputs": [
        {
          "output_type": "execute_result",
          "data": {
            "text/html": [
              "\n",
              "  <div id=\"df-8dddf0e1-3393-46d3-97a6-d94b9bad7199\">\n",
              "    <div class=\"colab-df-container\">\n",
              "      <div>\n",
              "<style scoped>\n",
              "    .dataframe tbody tr th:only-of-type {\n",
              "        vertical-align: middle;\n",
              "    }\n",
              "\n",
              "    .dataframe tbody tr th {\n",
              "        vertical-align: top;\n",
              "    }\n",
              "\n",
              "    .dataframe thead th {\n",
              "        text-align: right;\n",
              "    }\n",
              "</style>\n",
              "<table border=\"1\" class=\"dataframe\">\n",
              "  <thead>\n",
              "    <tr style=\"text-align: right;\">\n",
              "      <th></th>\n",
              "      <th>index</th>\n",
              "      <th>file</th>\n",
              "    </tr>\n",
              "  </thead>\n",
              "  <tbody>\n",
              "    <tr>\n",
              "      <th>157</th>\n",
              "      <td>157</td>\n",
              "      <td>200502 20년04월 물류수수료_아파트맨터리.xlsx</td>\n",
              "    </tr>\n",
              "    <tr>\n",
              "      <th>158</th>\n",
              "      <td>158</td>\n",
              "      <td>200502 20년04월 물류수수료_페로나.xlsx</td>\n",
              "    </tr>\n",
              "    <tr>\n",
              "      <th>159</th>\n",
              "      <td>159</td>\n",
              "      <td>200427 20년04월 물류수수료_에넥스.xlsx</td>\n",
              "    </tr>\n",
              "    <tr>\n",
              "      <th>160</th>\n",
              "      <td>160</td>\n",
              "      <td>200502 20년04월 물류수수료_레스티.xlsx</td>\n",
              "    </tr>\n",
              "    <tr>\n",
              "      <th>161</th>\n",
              "      <td>161</td>\n",
              "      <td>200502 20년04월 물류수수료_온라인투어v3(ᄋ...</td>\n",
              "    </tr>\n",
              "  </tbody>\n",
              "</table>\n",
              "</div>\n",
              "      <button class=\"colab-df-convert\" onclick=\"convertToInteractive('df-8dddf0e1-3393-46d3-97a6-d94b9bad7199')\"\n",
              "              title=\"Convert this dataframe to an interactive table.\"\n",
              "              style=\"display:none;\">\n",
              "        \n",
              "  <svg xmlns=\"http://www.w3.org/2000/svg\" height=\"24px\"viewBox=\"0 0 24 24\"\n",
              "       width=\"24px\">\n",
              "    <path d=\"M0 0h24v24H0V0z\" fill=\"none\"/>\n",
              "    <path d=\"M18.56 5.44l.94 2.06.94-2.06 2.06-.94-2.06-.94-.94-2.06-.94 2.06-2.06.94zm-11 1L8.5 8.5l.94-2.06 2.06-.94-2.06-.94L8.5 2.5l-.94 2.06-2.06.94zm10 10l.94 2.06.94-2.06 2.06-.94-2.06-.94-.94-2.06-.94 2.06-2.06.94z\"/><path d=\"M17.41 7.96l-1.37-1.37c-.4-.4-.92-.59-1.43-.59-.52 0-1.04.2-1.43.59L10.3 9.45l-7.72 7.72c-.78.78-.78 2.05 0 2.83L4 21.41c.39.39.9.59 1.41.59.51 0 1.02-.2 1.41-.59l7.78-7.78 2.81-2.81c.8-.78.8-2.07 0-2.86zM5.41 20L4 18.59l7.72-7.72 1.47 1.35L5.41 20z\"/>\n",
              "  </svg>\n",
              "      </button>\n",
              "      \n",
              "  <style>\n",
              "    .colab-df-container {\n",
              "      display:flex;\n",
              "      flex-wrap:wrap;\n",
              "      gap: 12px;\n",
              "    }\n",
              "\n",
              "    .colab-df-convert {\n",
              "      background-color: #E8F0FE;\n",
              "      border: none;\n",
              "      border-radius: 50%;\n",
              "      cursor: pointer;\n",
              "      display: none;\n",
              "      fill: #1967D2;\n",
              "      height: 32px;\n",
              "      padding: 0 0 0 0;\n",
              "      width: 32px;\n",
              "    }\n",
              "\n",
              "    .colab-df-convert:hover {\n",
              "      background-color: #E2EBFA;\n",
              "      box-shadow: 0px 1px 2px rgba(60, 64, 67, 0.3), 0px 1px 3px 1px rgba(60, 64, 67, 0.15);\n",
              "      fill: #174EA6;\n",
              "    }\n",
              "\n",
              "    [theme=dark] .colab-df-convert {\n",
              "      background-color: #3B4455;\n",
              "      fill: #D2E3FC;\n",
              "    }\n",
              "\n",
              "    [theme=dark] .colab-df-convert:hover {\n",
              "      background-color: #434B5C;\n",
              "      box-shadow: 0px 1px 3px 1px rgba(0, 0, 0, 0.15);\n",
              "      filter: drop-shadow(0px 1px 2px rgba(0, 0, 0, 0.3));\n",
              "      fill: #FFFFFF;\n",
              "    }\n",
              "  </style>\n",
              "\n",
              "      <script>\n",
              "        const buttonEl =\n",
              "          document.querySelector('#df-8dddf0e1-3393-46d3-97a6-d94b9bad7199 button.colab-df-convert');\n",
              "        buttonEl.style.display =\n",
              "          google.colab.kernel.accessAllowed ? 'block' : 'none';\n",
              "\n",
              "        async function convertToInteractive(key) {\n",
              "          const element = document.querySelector('#df-8dddf0e1-3393-46d3-97a6-d94b9bad7199');\n",
              "          const dataTable =\n",
              "            await google.colab.kernel.invokeFunction('convertToInteractive',\n",
              "                                                     [key], {});\n",
              "          if (!dataTable) return;\n",
              "\n",
              "          const docLinkHtml = 'Like what you see? Visit the ' +\n",
              "            '<a target=\"_blank\" href=https://colab.research.google.com/notebooks/data_table.ipynb>data table notebook</a>'\n",
              "            + ' to learn more about interactive tables.';\n",
              "          element.innerHTML = '';\n",
              "          dataTable['output_type'] = 'display_data';\n",
              "          await google.colab.output.renderOutput(dataTable, element);\n",
              "          const docLink = document.createElement('div');\n",
              "          docLink.innerHTML = docLinkHtml;\n",
              "          element.appendChild(docLink);\n",
              "        }\n",
              "      </script>\n",
              "    </div>\n",
              "  </div>\n",
              "  "
            ],
            "text/plain": [
              "    index                                               file\n",
              "157   157   200502 20년04월 물류수수료_아파트맨터리.xlsx\n",
              "158   158          200502 20년04월 물류수수료_페로나.xlsx\n",
              "159   159         200427 20년04월 물류수수료_에넥스.xlsx\n",
              "160   160          200502 20년04월 물류수수료_레스티.xlsx\n",
              "161   161  200502 20년04월 물류수수료_온라인투어v3(ᄋ..."
            ]
          },
          "metadata": {},
          "execution_count": 7
        }
      ]
    },
    {
      "cell_type": "code",
      "source": [
        ""
      ],
      "metadata": {
        "id": "G8kunE8kb0bK"
      },
      "execution_count": null,
      "outputs": []
    }
  ]
}